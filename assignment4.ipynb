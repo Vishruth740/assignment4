{
 "cells": [
  {
   "cell_type": "code",
   "execution_count": 77,
   "metadata": {},
   "outputs": [
    {
     "name": "stdout",
     "output_type": "stream",
     "text": [
      "a=2\n",
      "b=1\n",
      "c=2\n",
      "area of traingle= 0.9682458365518543\n"
     ]
    }
   ],
   "source": [
    "#1 Write a Python Program(with class concepts) to find the area of the triangle using the below formula.\n",
    "#area = (s*(s-a)*(s-b)*(s-c)) ** 0.5\n",
    "#Function to take the length of the sides of triangle from user should be defined in the parent\n",
    "#class and function to calculate the area should be defined in subclass.\n",
    "class Sides:\n",
    "    def __init__(self):\n",
    "        self.a=float(input(\"a=\"))\n",
    "        self.b=float(input(\"b=\"))\n",
    "        self.c=float(input(\"c=\"))\n",
    "class Area(Sides):\n",
    "    def __init__(self):\n",
    "        super().__init__()\n",
    "    def length(self):\n",
    "        s=(self.a+self.b+self.c)/2\n",
    "        area=(s*(s-self.a)*(s-self.b)*(s-self.c)) ** 0.5\n",
    "        print(\"area of traingle=\",area)\n",
    "\n",
    "s1=Area()\n",
    "s1.length()"
   ]
  },
  {
   "cell_type": "code",
   "execution_count": 75,
   "metadata": {},
   "outputs": [
    {
     "name": "stdout",
     "output_type": "stream",
     "text": [
      "['ineuron', 'best', 'place', 'learn', 'Data', 'science']\n"
     ]
    }
   ],
   "source": [
    "#1.2 Write a function filter_long_words() that takes a list of words and an integer n and returns the list of words that are longer than n.\n",
    "def filter_long_words(n,str1):\n",
    "    str2=str1.split(\" \")\n",
    "    list1=[]\n",
    "    for x in str2:\n",
    "        if len(x)>n:\n",
    "            list1.append(x)\n",
    "    return list1\n",
    "result=filter_long_words(3,\"ineuron is the best place to learn Data science\")\n",
    "print(result)\n",
    "        \n",
    "    \n",
    "\n",
    "            \n",
    "    "
   ]
  },
  {
   "cell_type": "code",
   "execution_count": 81,
   "metadata": {},
   "outputs": [
    {
     "name": "stdout",
     "output_type": "stream",
     "text": [
      "length of corresponding list: [2, 3, 4]\n"
     ]
    }
   ],
   "source": [
    "#2.1 Write a Python program using function concept that maps list of words into a list of integers representing the lengths of the corresponding words.\n",
    "def findinglength(list1):\n",
    "    list2=[]\n",
    "    for x in list1:\n",
    "        list2.append(len(x))\n",
    "    return list2\n",
    "result=findinglength(['ab','cde','erty'])\n",
    "print(\"length of corresponding list:\",result)"
   ]
  },
  {
   "cell_type": "code",
   "execution_count": 82,
   "metadata": {},
   "outputs": [
    {
     "name": "stdout",
     "output_type": "stream",
     "text": [
      "enter the character:a\n",
      "True\n",
      "enter the character:b\n",
      "False\n"
     ]
    }
   ],
   "source": [
    "#2.2 Write a Python function which takes a character (i.e. a string of length 1) and returns True if it is a vowel, False otherwise.\n",
    "def vowels(char):\n",
    "    vowels=['a','e','i','o','u']\n",
    "    if char in vowels:\n",
    "        return True\n",
    "    else:\n",
    "        return False\n",
    "for i in range(2):\n",
    "    n=input(\"enter the character:\")\n",
    "    result=vowels(n)\n",
    "    print(result)"
   ]
  },
  {
   "cell_type": "code",
   "execution_count": null,
   "metadata": {},
   "outputs": [],
   "source": []
  },
  {
   "cell_type": "code",
   "execution_count": null,
   "metadata": {},
   "outputs": [],
   "source": []
  }
 ],
 "metadata": {
  "kernelspec": {
   "display_name": "Python 3",
   "language": "python",
   "name": "python3"
  },
  "language_info": {
   "codemirror_mode": {
    "name": "ipython",
    "version": 3
   },
   "file_extension": ".py",
   "mimetype": "text/x-python",
   "name": "python",
   "nbconvert_exporter": "python",
   "pygments_lexer": "ipython3",
   "version": "3.7.6"
  }
 },
 "nbformat": 4,
 "nbformat_minor": 4
}
